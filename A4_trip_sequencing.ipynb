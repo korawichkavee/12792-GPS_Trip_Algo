{
 "cells": [
  {
   "cell_type": "code",
   "execution_count": 29,
   "metadata": {},
   "outputs": [
    {
     "name": "stdout",
     "output_type": "stream",
     "text": [
      "all libraries are loaded!\n"
     ]
    }
   ],
   "source": [
    "#Importing Package\n",
    "#importing\n",
    "import numpy as np\n",
    "import pandas as pd\n",
    "from datetime import datetime, timedelta, timezone\n",
    "import matplotlib.pyplot as plt\n",
    "import os\n",
    "print(\"all libraries are loaded!\")"
   ]
  },
  {
   "cell_type": "code",
   "execution_count": 30,
   "metadata": {},
   "outputs": [
    {
     "name": "stdout",
     "output_type": "stream",
     "text": [
      "992\n"
     ]
    },
    {
     "data": {
      "text/html": [
       "<div>\n",
       "<style scoped>\n",
       "    .dataframe tbody tr th:only-of-type {\n",
       "        vertical-align: middle;\n",
       "    }\n",
       "\n",
       "    .dataframe tbody tr th {\n",
       "        vertical-align: top;\n",
       "    }\n",
       "\n",
       "    .dataframe thead th {\n",
       "        text-align: right;\n",
       "    }\n",
       "</style>\n",
       "<table border=\"1\" class=\"dataframe\">\n",
       "  <thead>\n",
       "    <tr style=\"text-align: right;\">\n",
       "      <th></th>\n",
       "      <th>driver_id</th>\n",
       "      <th>shift_id</th>\n",
       "      <th>lat</th>\n",
       "      <th>lon</th>\n",
       "      <th>accuracy</th>\n",
       "      <th>speed</th>\n",
       "      <th>heading</th>\n",
       "      <th>activity_type</th>\n",
       "      <th>activity_confidence</th>\n",
       "      <th>DateTime</th>\n",
       "      <th>time_diffs</th>\n",
       "      <th>speed_mean</th>\n",
       "      <th>Stop_check</th>\n",
       "      <th>Stop_real</th>\n",
       "      <th>O_or_D</th>\n",
       "    </tr>\n",
       "  </thead>\n",
       "  <tbody>\n",
       "    <tr>\n",
       "      <th>0</th>\n",
       "      <td>4326a593-9272-4411-b3b7-05555cca7784</td>\n",
       "      <td>347303.0</td>\n",
       "      <td>40.491580</td>\n",
       "      <td>-80.264281</td>\n",
       "      <td>4.0</td>\n",
       "      <td>0.0</td>\n",
       "      <td>208.25</td>\n",
       "      <td>still</td>\n",
       "      <td>33</td>\n",
       "      <td>2019-08-21 17:49:11.998</td>\n",
       "      <td>0.000</td>\n",
       "      <td>0.000000</td>\n",
       "      <td>1.0</td>\n",
       "      <td>1.0</td>\n",
       "      <td>Origin</td>\n",
       "    </tr>\n",
       "    <tr>\n",
       "      <th>1</th>\n",
       "      <td>4326a593-9272-4411-b3b7-05555cca7784</td>\n",
       "      <td>NaN</td>\n",
       "      <td>40.491580</td>\n",
       "      <td>-80.264281</td>\n",
       "      <td>4.0</td>\n",
       "      <td>0.0</td>\n",
       "      <td>208.25</td>\n",
       "      <td>unknown</td>\n",
       "      <td>100</td>\n",
       "      <td>2019-08-21 17:49:11.998</td>\n",
       "      <td>0.000</td>\n",
       "      <td>NaN</td>\n",
       "      <td>NaN</td>\n",
       "      <td>1.0</td>\n",
       "      <td>Origin</td>\n",
       "    </tr>\n",
       "    <tr>\n",
       "      <th>2</th>\n",
       "      <td>4326a593-9272-4411-b3b7-05555cca7784</td>\n",
       "      <td>NaN</td>\n",
       "      <td>40.491580</td>\n",
       "      <td>-80.264281</td>\n",
       "      <td>4.0</td>\n",
       "      <td>0.0</td>\n",
       "      <td>208.25</td>\n",
       "      <td>unknown</td>\n",
       "      <td>100</td>\n",
       "      <td>2019-08-21 17:49:12.372</td>\n",
       "      <td>0.374</td>\n",
       "      <td>0.000000</td>\n",
       "      <td>1.0</td>\n",
       "      <td>1.0</td>\n",
       "      <td>Origin</td>\n",
       "    </tr>\n",
       "    <tr>\n",
       "      <th>3</th>\n",
       "      <td>4326a593-9272-4411-b3b7-05555cca7784</td>\n",
       "      <td>347303.0</td>\n",
       "      <td>40.491583</td>\n",
       "      <td>-80.264277</td>\n",
       "      <td>4.0</td>\n",
       "      <td>0.0</td>\n",
       "      <td>208.41</td>\n",
       "      <td>still</td>\n",
       "      <td>33</td>\n",
       "      <td>2019-08-21 17:49:46.997</td>\n",
       "      <td>34.625</td>\n",
       "      <td>0.013098</td>\n",
       "      <td>1.0</td>\n",
       "      <td>1.0</td>\n",
       "      <td>Origin</td>\n",
       "    </tr>\n",
       "    <tr>\n",
       "      <th>4</th>\n",
       "      <td>4326a593-9272-4411-b3b7-05555cca7784</td>\n",
       "      <td>347304.0</td>\n",
       "      <td>40.491583</td>\n",
       "      <td>-80.264277</td>\n",
       "      <td>4.0</td>\n",
       "      <td>0.0</td>\n",
       "      <td>208.41</td>\n",
       "      <td>still</td>\n",
       "      <td>33</td>\n",
       "      <td>2019-08-21 17:49:46.997</td>\n",
       "      <td>0.000</td>\n",
       "      <td>NaN</td>\n",
       "      <td>NaN</td>\n",
       "      <td>1.0</td>\n",
       "      <td>Origin</td>\n",
       "    </tr>\n",
       "  </tbody>\n",
       "</table>\n",
       "</div>"
      ],
      "text/plain": [
       "                              driver_id  shift_id        lat        lon  \\\n",
       "0  4326a593-9272-4411-b3b7-05555cca7784  347303.0  40.491580 -80.264281   \n",
       "1  4326a593-9272-4411-b3b7-05555cca7784       NaN  40.491580 -80.264281   \n",
       "2  4326a593-9272-4411-b3b7-05555cca7784       NaN  40.491580 -80.264281   \n",
       "3  4326a593-9272-4411-b3b7-05555cca7784  347303.0  40.491583 -80.264277   \n",
       "4  4326a593-9272-4411-b3b7-05555cca7784  347304.0  40.491583 -80.264277   \n",
       "\n",
       "   accuracy  speed  heading activity_type  activity_confidence  \\\n",
       "0       4.0    0.0   208.25         still                   33   \n",
       "1       4.0    0.0   208.25       unknown                  100   \n",
       "2       4.0    0.0   208.25       unknown                  100   \n",
       "3       4.0    0.0   208.41         still                   33   \n",
       "4       4.0    0.0   208.41         still                   33   \n",
       "\n",
       "                 DateTime  time_diffs  speed_mean  Stop_check  Stop_real  \\\n",
       "0 2019-08-21 17:49:11.998       0.000    0.000000         1.0        1.0   \n",
       "1 2019-08-21 17:49:11.998       0.000         NaN         NaN        1.0   \n",
       "2 2019-08-21 17:49:12.372       0.374    0.000000         1.0        1.0   \n",
       "3 2019-08-21 17:49:46.997      34.625    0.013098         1.0        1.0   \n",
       "4 2019-08-21 17:49:46.997       0.000         NaN         NaN        1.0   \n",
       "\n",
       "   O_or_D  \n",
       "0  Origin  \n",
       "1  Origin  \n",
       "2  Origin  \n",
       "3  Origin  \n",
       "4  Origin  "
      ]
     },
     "execution_count": 30,
     "metadata": {},
     "output_type": "execute_result"
    }
   ],
   "source": [
    "# INPUT Import the data (After stop identifying program)\n",
    "folder = 'pitt-DriverID_cal' \n",
    "filename = '4326a593-9272-4411-b3b7-05555cca778420220417_162338'\n",
    "driver = filename[0:36]\n",
    "df = pd.read_csv(folder + '/' + filename+'.csv')\n",
    "\n",
    "#Format  DateTime\n",
    "df[\"DateTime\"] = pd.to_datetime(df['DateTime'])\n",
    "\n",
    "print(len(df))\n",
    "df.head()"
   ]
  },
  {
   "cell_type": "code",
   "execution_count": 31,
   "metadata": {},
   "outputs": [
    {
     "data": {
      "text/plain": [
       "1.0"
      ]
     },
     "execution_count": 31,
     "metadata": {},
     "output_type": "execute_result"
    }
   ],
   "source": [
    "df['Stop_real'].iloc[1]"
   ]
  },
  {
   "cell_type": "code",
   "execution_count": 32,
   "metadata": {},
   "outputs": [
    {
     "data": {
      "text/plain": [
       "Timestamp('2019-08-21 17:49:11.998000')"
      ]
     },
     "execution_count": 32,
     "metadata": {},
     "output_type": "execute_result"
    }
   ],
   "source": [
    "df['DateTime'].iloc[1]"
   ]
  },
  {
   "cell_type": "code",
   "execution_count": 33,
   "metadata": {},
   "outputs": [
    {
     "data": {
      "text/plain": [
       "1.0"
      ]
     },
     "execution_count": 33,
     "metadata": {},
     "output_type": "execute_result"
    }
   ],
   "source": [
    "np.sin(np.pi/2.+2*np.pi)"
   ]
  },
  {
   "cell_type": "code",
   "execution_count": 34,
   "metadata": {},
   "outputs": [
    {
     "name": "stdout",
     "output_type": "stream",
     "text": [
      "4\n",
      "4\n",
      "4\n",
      "4\n",
      "4\n",
      "4\n"
     ]
    }
   ],
   "source": [
    "# for each row in df\n",
    "for i in range(len(df)):\n",
    "    if i == 0:\n",
    "        n = 0\n",
    "        FR_or_TO = np.sin(np.pi/2.+n*np.pi) # sin(pi/2) = 1\n",
    "        # make list for FROM Lat , Lon, DateTime\n",
    "        FR_LAT = []\n",
    "        FR_LON = []\n",
    "        FR_TIM = []\n",
    "        # make list for TO Lat , Lon, DateTime\n",
    "        TO_LAT = []\n",
    "        To_LON = []\n",
    "        TO_TIM = []\n",
    "    if i > 0:\n",
    "        # if stop_real row i isnt same as row i-1 AND is 1\n",
    "        if df['Stop_real'].iloc[i] != df['Stop_real'].iloc[i-1] and df['Stop_real'].iloc[i] == 1 :\n",
    "            if FR_or_TO == 1: #From\n",
    "                FR_LAT.append(df['lat'].iloc[i])\n",
    "                FR_LON.append(df['lon'].iloc[i])\n",
    "                FR_TIM.append(df['DateTime'].iloc[i])\n",
    "            if FR_or_TO == -1: #To\n",
    "                TO_LAT.append(df['lat'].iloc[i])\n",
    "                To_LON.append(df['lon'].iloc[i])\n",
    "                TO_TIM.append(df['DateTime'].iloc[i])\n",
    "\n",
    "        # if stop_real row i isnt same as row i-1 AND is 0\n",
    "        if df['Stop_real'].iloc[i] != df['Stop_real'].iloc[i-1] and df['Stop_real'].iloc[i] == 0 :\n",
    "            if FR_or_TO == 1: #From\n",
    "                n = n +1\n",
    "                FR_or_TO = np.sin(np.pi/2.+n*np.pi)\n",
    "            if FR_or_TO == -1: #To\n",
    "                FR_LAT.append(df['lat'].iloc[i-1])\n",
    "                FR_LON.append(df['lon'].iloc[i-1])\n",
    "                FR_TIM.append(df['DateTime'].iloc[i-1])\n",
    "while len(FR_TIM) > len(TO_TIM):\n",
    "    del FR_LAT[-1]\n",
    "    del FR_LON[-1]\n",
    "    del FR_TIM[-1]\n",
    "print(len(FR_LAT))\n",
    "print(len(FR_LON))\n",
    "print(len(FR_TIM))\n",
    "print(len(TO_LAT))\n",
    "print(len(To_LON))\n",
    "print(len(TO_TIM))"
   ]
  },
  {
   "cell_type": "code",
   "execution_count": 35,
   "metadata": {},
   "outputs": [
    {
     "data": {
      "text/plain": [
       "[Timestamp('2019-08-21 17:51:52.887000'),\n",
       " Timestamp('2019-08-21 19:02:09.994000'),\n",
       " Timestamp('2019-08-21 19:13:56.997000'),\n",
       " Timestamp('2019-08-21 19:18:33')]"
      ]
     },
     "execution_count": 35,
     "metadata": {},
     "output_type": "execute_result"
    }
   ],
   "source": [
    "TO_TIM"
   ]
  },
  {
   "cell_type": "code",
   "execution_count": 36,
   "metadata": {},
   "outputs": [
    {
     "name": "stdout",
     "output_type": "stream",
     "text": [
      "4\n"
     ]
    },
    {
     "data": {
      "text/html": [
       "<div>\n",
       "<style scoped>\n",
       "    .dataframe tbody tr th:only-of-type {\n",
       "        vertical-align: middle;\n",
       "    }\n",
       "\n",
       "    .dataframe tbody tr th {\n",
       "        vertical-align: top;\n",
       "    }\n",
       "\n",
       "    .dataframe thead th {\n",
       "        text-align: right;\n",
       "    }\n",
       "</style>\n",
       "<table border=\"1\" class=\"dataframe\">\n",
       "  <thead>\n",
       "    <tr style=\"text-align: right;\">\n",
       "      <th></th>\n",
       "      <th>FR_LAT</th>\n",
       "      <th>FR_LON</th>\n",
       "      <th>FR_TIM</th>\n",
       "      <th>TO_LAT</th>\n",
       "      <th>To_LON</th>\n",
       "      <th>TO_TIM</th>\n",
       "      <th>DRIVER_ID</th>\n",
       "      <th>DURA_S</th>\n",
       "    </tr>\n",
       "  </thead>\n",
       "  <tbody>\n",
       "    <tr>\n",
       "      <th>0</th>\n",
       "      <td>40.491584</td>\n",
       "      <td>-80.264277</td>\n",
       "      <td>2019-08-21 17:49:54.997</td>\n",
       "      <td>40.491589</td>\n",
       "      <td>-80.264294</td>\n",
       "      <td>2019-08-21 17:51:52.887</td>\n",
       "      <td>4326a593-9272-4411-b3b7-05555cca7784</td>\n",
       "      <td>117.890</td>\n",
       "    </tr>\n",
       "    <tr>\n",
       "      <th>1</th>\n",
       "      <td>40.492371</td>\n",
       "      <td>-80.265818</td>\n",
       "      <td>2019-08-21 18:31:47.997</td>\n",
       "      <td>40.512369</td>\n",
       "      <td>-80.097151</td>\n",
       "      <td>2019-08-21 19:02:09.994</td>\n",
       "      <td>4326a593-9272-4411-b3b7-05555cca7784</td>\n",
       "      <td>1821.997</td>\n",
       "    </tr>\n",
       "    <tr>\n",
       "      <th>2</th>\n",
       "      <td>40.512469</td>\n",
       "      <td>-80.097204</td>\n",
       "      <td>2019-08-21 19:02:34.994</td>\n",
       "      <td>40.521488</td>\n",
       "      <td>-80.033866</td>\n",
       "      <td>2019-08-21 19:13:56.997</td>\n",
       "      <td>4326a593-9272-4411-b3b7-05555cca7784</td>\n",
       "      <td>682.003</td>\n",
       "    </tr>\n",
       "    <tr>\n",
       "      <th>3</th>\n",
       "      <td>40.521405</td>\n",
       "      <td>-80.033640</td>\n",
       "      <td>2019-08-21 19:14:18.996</td>\n",
       "      <td>40.521094</td>\n",
       "      <td>-80.025103</td>\n",
       "      <td>2019-08-21 19:18:33.000</td>\n",
       "      <td>4326a593-9272-4411-b3b7-05555cca7784</td>\n",
       "      <td>254.004</td>\n",
       "    </tr>\n",
       "  </tbody>\n",
       "</table>\n",
       "</div>"
      ],
      "text/plain": [
       "      FR_LAT     FR_LON                  FR_TIM     TO_LAT     To_LON  \\\n",
       "0  40.491584 -80.264277 2019-08-21 17:49:54.997  40.491589 -80.264294   \n",
       "1  40.492371 -80.265818 2019-08-21 18:31:47.997  40.512369 -80.097151   \n",
       "2  40.512469 -80.097204 2019-08-21 19:02:34.994  40.521488 -80.033866   \n",
       "3  40.521405 -80.033640 2019-08-21 19:14:18.996  40.521094 -80.025103   \n",
       "\n",
       "                   TO_TIM                             DRIVER_ID    DURA_S  \n",
       "0 2019-08-21 17:51:52.887  4326a593-9272-4411-b3b7-05555cca7784   117.890  \n",
       "1 2019-08-21 19:02:09.994  4326a593-9272-4411-b3b7-05555cca7784  1821.997  \n",
       "2 2019-08-21 19:13:56.997  4326a593-9272-4411-b3b7-05555cca7784   682.003  \n",
       "3 2019-08-21 19:18:33.000  4326a593-9272-4411-b3b7-05555cca7784   254.004  "
      ]
     },
     "execution_count": 36,
     "metadata": {},
     "output_type": "execute_result"
    }
   ],
   "source": [
    "SequenceTable = pd.DataFrame()\n",
    "SequenceTable['FR_LAT'] = FR_LAT\n",
    "SequenceTable['FR_LON'] = FR_LON\n",
    "SequenceTable['FR_TIM'] = FR_TIM\n",
    "SequenceTable['TO_LAT'] = TO_LAT\n",
    "SequenceTable['To_LON'] = To_LON\n",
    "SequenceTable['TO_TIM'] = TO_TIM\n",
    "SequenceTable['DRIVER_ID'] = driver\n",
    "delta_t = []\n",
    "for i in range(len(TO_TIM)):\n",
    "    delta_t.append((TO_TIM[i]-FR_TIM[i]).total_seconds())\n",
    "SequenceTable['DURA_S'] = delta_t\n",
    "\n",
    "print(len(SequenceTable))\n",
    "SequenceTable.head()"
   ]
  },
  {
   "cell_type": "code",
   "execution_count": 37,
   "metadata": {},
   "outputs": [],
   "source": [
    "# To Create Directory If Not Exist\n",
    "# https://appdividend.com/2021/07/03/how-to-create-directory-if-not-exist-in-python/\n",
    "path = 'Trip/TripSequencing'\n",
    "if not os.path.exists(path):\n",
    "    os.makedirs(path, exist_ok=False)\n",
    "# datetime object containing current date and time\n",
    "now = datetime.now()\n",
    "dt_string = now.strftime(\"%Y%m%d_%H%M%S\")\n",
    "#export\n",
    "SequenceTable.to_csv(path+ \"/\" + 'T_'+filename + dt_string + \".csv\",index = 0)"
   ]
  }
 ],
 "metadata": {
  "interpreter": {
   "hash": "b3ba2566441a7c06988d0923437866b63cedc61552a5af99d1f4fb67d367b25f"
  },
  "kernelspec": {
   "display_name": "Python 3.8.8 64-bit ('base': conda)",
   "language": "python",
   "name": "python3"
  },
  "language_info": {
   "codemirror_mode": {
    "name": "ipython",
    "version": 3
   },
   "file_extension": ".py",
   "mimetype": "text/x-python",
   "name": "python",
   "nbconvert_exporter": "python",
   "pygments_lexer": "ipython3",
   "version": "3.8.8"
  },
  "orig_nbformat": 4
 },
 "nbformat": 4,
 "nbformat_minor": 2
}
